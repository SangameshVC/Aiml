{
 "cells": [
  {
   "cell_type": "code",
   "execution_count": 1,
   "metadata": {},
   "outputs": [
    {
     "data": {
      "text/plain": [
       "array('NaT', dtype=datetime64)"
      ]
     },
     "execution_count": 1,
     "metadata": {},
     "output_type": "execute_result"
    }
   ],
   "source": [
    "import numpy as np\n",
    "s=input(\"Enter int the format YYYY-MM-DD\")\n",
    "date = np.array(s, dtype=np.datetime64)\n",
    "date"
   ]
  },
  {
   "cell_type": "code",
   "execution_count": 2,
   "metadata": {},
   "outputs": [
    {
     "name": "stdout",
     "output_type": "stream",
     "text": [
      "['NaT' 'NaT' 'NaT' 'NaT' 'NaT' 'NaT' 'NaT' 'NaT' 'NaT' 'NaT' 'NaT' 'NaT'\n",
      " 'NaT' 'NaT' 'NaT' 'NaT' 'NaT' 'NaT' 'NaT' 'NaT' 'NaT' 'NaT' 'NaT' 'NaT'\n",
      " 'NaT' 'NaT' 'NaT' 'NaT' 'NaT' 'NaT' 'NaT' 'NaT' 'NaT' 'NaT' 'NaT' 'NaT'\n",
      " 'NaT' 'NaT' 'NaT' 'NaT' 'NaT' 'NaT' 'NaT' 'NaT' 'NaT']\n"
     ]
    }
   ],
   "source": [
    "a=date - np.arange(45)\n",
    "b=date + np.arange(45)\n",
    "a=a[::-1]\n",
    "b=b[1::]\n",
    "print(a)\n"
   ]
  },
  {
   "cell_type": "code",
   "execution_count": 3,
   "metadata": {},
   "outputs": [
    {
     "name": "stdout",
     "output_type": "stream",
     "text": [
      "['NaT' 'NaT' 'NaT' 'NaT' 'NaT' 'NaT' 'NaT' 'NaT' 'NaT' 'NaT' 'NaT' 'NaT'\n",
      " 'NaT' 'NaT' 'NaT' 'NaT' 'NaT' 'NaT' 'NaT' 'NaT' 'NaT' 'NaT' 'NaT' 'NaT'\n",
      " 'NaT' 'NaT' 'NaT' 'NaT' 'NaT' 'NaT' 'NaT' 'NaT' 'NaT' 'NaT' 'NaT' 'NaT'\n",
      " 'NaT' 'NaT' 'NaT' 'NaT' 'NaT' 'NaT' 'NaT' 'NaT']\n"
     ]
    }
   ],
   "source": [
    "print(b)"
   ]
  },
  {
   "cell_type": "code",
   "execution_count": 4,
   "metadata": {},
   "outputs": [],
   "source": [
    "import pandas as pd "
   ]
  },
  {
   "cell_type": "code",
   "execution_count": 5,
   "metadata": {},
   "outputs": [],
   "source": [
    "arr = np.concatenate((a, b))"
   ]
  },
  {
   "cell_type": "code",
   "execution_count": 6,
   "metadata": {},
   "outputs": [
    {
     "ename": "TypeError",
     "evalue": "datetime64 values must have a unit specified",
     "output_type": "error",
     "traceback": [
      "\u001b[1;31m---------------------------------------------------------------------------\u001b[0m",
      "\u001b[1;31mTypeError\u001b[0m                                 Traceback (most recent call last)",
      "\u001b[1;32mc:\\Users\\sangamesh chikkanagi\\Desktop\\Stock-price-predection-using-LSTM-and-Sentiment-analysis-main\\add_dates.ipynb Cell 6\u001b[0m line \u001b[0;36m1\n\u001b[1;32m----> <a href='vscode-notebook-cell:/c%3A/Users/sangamesh%20chikkanagi/Desktop/Stock-price-predection-using-LSTM-and-Sentiment-analysis-main/add_dates.ipynb#W5sZmlsZQ%3D%3D?line=0'>1</a>\u001b[0m DF \u001b[39m=\u001b[39m pd\u001b[39m.\u001b[39;49mDataFrame(arr)\n",
      "File \u001b[1;32mc:\\Users\\sangamesh chikkanagi\\AppData\\Local\\Programs\\Python\\Python311\\Lib\\site-packages\\pandas\\core\\frame.py:785\u001b[0m, in \u001b[0;36mDataFrame.__init__\u001b[1;34m(self, data, index, columns, dtype, copy)\u001b[0m\n\u001b[0;32m    774\u001b[0m         mgr \u001b[39m=\u001b[39m dict_to_mgr(\n\u001b[0;32m    775\u001b[0m             \u001b[39m# error: Item \"ndarray\" of \"Union[ndarray, Series, Index]\" has no\u001b[39;00m\n\u001b[0;32m    776\u001b[0m             \u001b[39m# attribute \"name\"\u001b[39;00m\n\u001b[1;32m   (...)\u001b[0m\n\u001b[0;32m    782\u001b[0m             copy\u001b[39m=\u001b[39m_copy,\n\u001b[0;32m    783\u001b[0m         )\n\u001b[0;32m    784\u001b[0m     \u001b[39melse\u001b[39;00m:\n\u001b[1;32m--> 785\u001b[0m         mgr \u001b[39m=\u001b[39m ndarray_to_mgr(\n\u001b[0;32m    786\u001b[0m             data,\n\u001b[0;32m    787\u001b[0m             index,\n\u001b[0;32m    788\u001b[0m             columns,\n\u001b[0;32m    789\u001b[0m             dtype\u001b[39m=\u001b[39;49mdtype,\n\u001b[0;32m    790\u001b[0m             copy\u001b[39m=\u001b[39;49mcopy,\n\u001b[0;32m    791\u001b[0m             typ\u001b[39m=\u001b[39;49mmanager,\n\u001b[0;32m    792\u001b[0m         )\n\u001b[0;32m    794\u001b[0m \u001b[39m# For data is list-like, or Iterable (will consume into list)\u001b[39;00m\n\u001b[0;32m    795\u001b[0m \u001b[39melif\u001b[39;00m is_list_like(data):\n",
      "File \u001b[1;32mc:\\Users\\sangamesh chikkanagi\\AppData\\Local\\Programs\\Python\\Python311\\Lib\\site-packages\\pandas\\core\\internals\\construction.py:393\u001b[0m, in \u001b[0;36mndarray_to_mgr\u001b[1;34m(values, index, columns, dtype, copy, typ)\u001b[0m\n\u001b[0;32m    391\u001b[0m \u001b[39melse\u001b[39;00m:\n\u001b[0;32m    392\u001b[0m     bp \u001b[39m=\u001b[39m BlockPlacement(\u001b[39mslice\u001b[39m(\u001b[39mlen\u001b[39m(columns)))\n\u001b[1;32m--> 393\u001b[0m     nb \u001b[39m=\u001b[39m new_block_2d(values, placement\u001b[39m=\u001b[39;49mbp, refs\u001b[39m=\u001b[39;49mrefs)\n\u001b[0;32m    394\u001b[0m     block_values \u001b[39m=\u001b[39m [nb]\n\u001b[0;32m    396\u001b[0m \u001b[39mif\u001b[39;00m \u001b[39mlen\u001b[39m(columns) \u001b[39m==\u001b[39m \u001b[39m0\u001b[39m:\n\u001b[0;32m    397\u001b[0m     \u001b[39m# TODO: check len(values) == 0?\u001b[39;00m\n",
      "File \u001b[1;32mc:\\Users\\sangamesh chikkanagi\\AppData\\Local\\Programs\\Python\\Python311\\Lib\\site-packages\\pandas\\core\\internals\\blocks.py:2384\u001b[0m, in \u001b[0;36mnew_block_2d\u001b[1;34m(values, placement, refs)\u001b[0m\n\u001b[0;32m   2375\u001b[0m \u001b[39mdef\u001b[39;00m \u001b[39mnew_block_2d\u001b[39m(\n\u001b[0;32m   2376\u001b[0m     values: ArrayLike, placement: BlockPlacement, refs: BlockValuesRefs \u001b[39m|\u001b[39m \u001b[39mNone\u001b[39;00m \u001b[39m=\u001b[39m \u001b[39mNone\u001b[39;00m\n\u001b[0;32m   2377\u001b[0m ):\n\u001b[1;32m   (...)\u001b[0m\n\u001b[0;32m   2380\u001b[0m     \u001b[39m#  isinstance(placement, BlockPlacement)\u001b[39;00m\n\u001b[0;32m   2381\u001b[0m     \u001b[39m#  check_ndim/ensure_block_shape already checked\u001b[39;00m\n\u001b[0;32m   2382\u001b[0m     klass \u001b[39m=\u001b[39m get_block_type(values\u001b[39m.\u001b[39mdtype)\n\u001b[1;32m-> 2384\u001b[0m     values \u001b[39m=\u001b[39m maybe_coerce_values(values)\n\u001b[0;32m   2385\u001b[0m     \u001b[39mreturn\u001b[39;00m klass(values, ndim\u001b[39m=\u001b[39m\u001b[39m2\u001b[39m, placement\u001b[39m=\u001b[39mplacement, refs\u001b[39m=\u001b[39mrefs)\n",
      "File \u001b[1;32mc:\\Users\\sangamesh chikkanagi\\AppData\\Local\\Programs\\Python\\Python311\\Lib\\site-packages\\pandas\\core\\internals\\blocks.py:2334\u001b[0m, in \u001b[0;36mmaybe_coerce_values\u001b[1;34m(values)\u001b[0m\n\u001b[0;32m   2331\u001b[0m \u001b[39m# Caller is responsible for ensuring NumpyExtensionArray is already extracted.\u001b[39;00m\n\u001b[0;32m   2333\u001b[0m \u001b[39mif\u001b[39;00m \u001b[39misinstance\u001b[39m(values, np\u001b[39m.\u001b[39mndarray):\n\u001b[1;32m-> 2334\u001b[0m     values \u001b[39m=\u001b[39m ensure_wrapped_if_datetimelike(values)\n\u001b[0;32m   2336\u001b[0m     \u001b[39mif\u001b[39;00m \u001b[39missubclass\u001b[39m(values\u001b[39m.\u001b[39mdtype\u001b[39m.\u001b[39mtype, \u001b[39mstr\u001b[39m):\n\u001b[0;32m   2337\u001b[0m         values \u001b[39m=\u001b[39m np\u001b[39m.\u001b[39marray(values, dtype\u001b[39m=\u001b[39m\u001b[39mobject\u001b[39m)\n",
      "File \u001b[1;32mc:\\Users\\sangamesh chikkanagi\\AppData\\Local\\Programs\\Python\\Python311\\Lib\\site-packages\\pandas\\core\\construction.py:492\u001b[0m, in \u001b[0;36mensure_wrapped_if_datetimelike\u001b[1;34m(arr)\u001b[0m\n\u001b[0;32m    489\u001b[0m \u001b[39mif\u001b[39;00m arr\u001b[39m.\u001b[39mdtype\u001b[39m.\u001b[39mkind \u001b[39m==\u001b[39m \u001b[39m\"\u001b[39m\u001b[39mM\u001b[39m\u001b[39m\"\u001b[39m:\n\u001b[0;32m    490\u001b[0m     \u001b[39mfrom\u001b[39;00m \u001b[39mpandas\u001b[39;00m\u001b[39m.\u001b[39;00m\u001b[39mcore\u001b[39;00m\u001b[39m.\u001b[39;00m\u001b[39marrays\u001b[39;00m \u001b[39mimport\u001b[39;00m DatetimeArray\n\u001b[1;32m--> 492\u001b[0m     \u001b[39mreturn\u001b[39;00m DatetimeArray\u001b[39m.\u001b[39;49m_from_sequence(arr)\n\u001b[0;32m    494\u001b[0m \u001b[39melif\u001b[39;00m arr\u001b[39m.\u001b[39mdtype\u001b[39m.\u001b[39mkind \u001b[39m==\u001b[39m \u001b[39m\"\u001b[39m\u001b[39mm\u001b[39m\u001b[39m\"\u001b[39m:\n\u001b[0;32m    495\u001b[0m     \u001b[39mfrom\u001b[39;00m \u001b[39mpandas\u001b[39;00m\u001b[39m.\u001b[39;00m\u001b[39mcore\u001b[39;00m\u001b[39m.\u001b[39;00m\u001b[39marrays\u001b[39;00m \u001b[39mimport\u001b[39;00m TimedeltaArray\n",
      "File \u001b[1;32mc:\\Users\\sangamesh chikkanagi\\AppData\\Local\\Programs\\Python\\Python311\\Lib\\site-packages\\pandas\\core\\arrays\\datetimes.py:297\u001b[0m, in \u001b[0;36mDatetimeArray._from_sequence\u001b[1;34m(cls, scalars, dtype, copy)\u001b[0m\n\u001b[0;32m    295\u001b[0m \u001b[39m@classmethod\u001b[39m\n\u001b[0;32m    296\u001b[0m \u001b[39mdef\u001b[39;00m \u001b[39m_from_sequence\u001b[39m(\u001b[39mcls\u001b[39m, scalars, \u001b[39m*\u001b[39m, dtype\u001b[39m=\u001b[39m\u001b[39mNone\u001b[39;00m, copy: \u001b[39mbool\u001b[39m \u001b[39m=\u001b[39m \u001b[39mFalse\u001b[39;00m):\n\u001b[1;32m--> 297\u001b[0m     \u001b[39mreturn\u001b[39;00m \u001b[39mcls\u001b[39;49m\u001b[39m.\u001b[39;49m_from_sequence_not_strict(scalars, dtype\u001b[39m=\u001b[39;49mdtype, copy\u001b[39m=\u001b[39;49mcopy)\n",
      "File \u001b[1;32mc:\\Users\\sangamesh chikkanagi\\AppData\\Local\\Programs\\Python\\Python311\\Lib\\site-packages\\pandas\\core\\arrays\\datetimes.py:339\u001b[0m, in \u001b[0;36mDatetimeArray._from_sequence_not_strict\u001b[1;34m(cls, data, dtype, copy, tz, freq, dayfirst, yearfirst, ambiguous)\u001b[0m\n\u001b[0;32m    335\u001b[0m     \u001b[39melse\u001b[39;00m:\n\u001b[0;32m    336\u001b[0m         \u001b[39m# DatetimeTZDtype\u001b[39;00m\n\u001b[0;32m    337\u001b[0m         unit \u001b[39m=\u001b[39m dtype\u001b[39m.\u001b[39munit\n\u001b[1;32m--> 339\u001b[0m subarr, tz, inferred_freq \u001b[39m=\u001b[39m _sequence_to_dt64ns(\n\u001b[0;32m    340\u001b[0m     data,\n\u001b[0;32m    341\u001b[0m     copy\u001b[39m=\u001b[39;49mcopy,\n\u001b[0;32m    342\u001b[0m     tz\u001b[39m=\u001b[39;49mtz,\n\u001b[0;32m    343\u001b[0m     dayfirst\u001b[39m=\u001b[39;49mdayfirst,\n\u001b[0;32m    344\u001b[0m     yearfirst\u001b[39m=\u001b[39;49myearfirst,\n\u001b[0;32m    345\u001b[0m     ambiguous\u001b[39m=\u001b[39;49mambiguous,\n\u001b[0;32m    346\u001b[0m     out_unit\u001b[39m=\u001b[39;49munit,\n\u001b[0;32m    347\u001b[0m )\n\u001b[0;32m    348\u001b[0m \u001b[39m# We have to call this again after possibly inferring a tz above\u001b[39;00m\n\u001b[0;32m    349\u001b[0m _validate_tz_from_dtype(dtype, tz, explicit_tz_none)\n",
      "File \u001b[1;32mc:\\Users\\sangamesh chikkanagi\\AppData\\Local\\Programs\\Python\\Python311\\Lib\\site-packages\\pandas\\core\\arrays\\datetimes.py:2261\u001b[0m, in \u001b[0;36m_sequence_to_dt64ns\u001b[1;34m(data, copy, tz, dayfirst, yearfirst, ambiguous, out_unit)\u001b[0m\n\u001b[0;32m   2259\u001b[0m new_unit \u001b[39m=\u001b[39m npy_unit_to_abbrev(new_reso)\n\u001b[0;32m   2260\u001b[0m new_dtype \u001b[39m=\u001b[39m np\u001b[39m.\u001b[39mdtype(\u001b[39mf\u001b[39m\u001b[39m\"\u001b[39m\u001b[39mM8[\u001b[39m\u001b[39m{\u001b[39;00mnew_unit\u001b[39m}\u001b[39;00m\u001b[39m]\u001b[39m\u001b[39m\"\u001b[39m)\n\u001b[1;32m-> 2261\u001b[0m data \u001b[39m=\u001b[39m astype_overflowsafe(data, dtype\u001b[39m=\u001b[39;49mnew_dtype, copy\u001b[39m=\u001b[39;49m\u001b[39mFalse\u001b[39;49;00m)\n\u001b[0;32m   2262\u001b[0m data_unit \u001b[39m=\u001b[39m get_unit_from_dtype(new_dtype)\n\u001b[0;32m   2263\u001b[0m copy \u001b[39m=\u001b[39m \u001b[39mFalse\u001b[39;00m\n",
      "File \u001b[1;32mnp_datetime.pyx:319\u001b[0m, in \u001b[0;36mpandas._libs.tslibs.np_datetime.astype_overflowsafe\u001b[1;34m()\u001b[0m\n",
      "File \u001b[1;32mnp_datetime.pyx:348\u001b[0m, in \u001b[0;36mpandas._libs.tslibs.np_datetime.astype_overflowsafe\u001b[1;34m()\u001b[0m\n",
      "\u001b[1;31mTypeError\u001b[0m: datetime64 values must have a unit specified"
     ]
    }
   ],
   "source": [
    "DF = pd.DataFrame(arr)"
   ]
  },
  {
   "cell_type": "code",
   "execution_count": null,
   "metadata": {},
   "outputs": [],
   "source": [
    "DF.to_csv(\"dates.csv\")"
   ]
  }
 ],
 "metadata": {
  "kernelspec": {
   "display_name": "Python 3",
   "language": "python",
   "name": "python3"
  },
  "language_info": {
   "codemirror_mode": {
    "name": "ipython",
    "version": 3
   },
   "file_extension": ".py",
   "mimetype": "text/x-python",
   "name": "python",
   "nbconvert_exporter": "python",
   "pygments_lexer": "ipython3",
   "version": "3.11.4"
  }
 },
 "nbformat": 4,
 "nbformat_minor": 4
}
